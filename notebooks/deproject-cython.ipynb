{
 "cells": [
  {
   "cell_type": "code",
   "execution_count": 1,
   "metadata": {},
   "outputs": [],
   "source": [
    "%matplotlib inline"
   ]
  },
  {
   "cell_type": "code",
   "execution_count": 2,
   "metadata": {},
   "outputs": [],
   "source": [
    "import pandas as pd\n",
    "import numpy as np\n",
    "\n",
    "import h5py"
   ]
  },
  {
   "cell_type": "code",
   "execution_count": 3,
   "metadata": {},
   "outputs": [],
   "source": [
    "datafolder = '../dataset/'"
   ]
  },
  {
   "cell_type": "code",
   "execution_count": 4,
   "metadata": {},
   "outputs": [],
   "source": [
    "df = pd.read_csv(datafolder+'dataset.pd', index_col=0)"
   ]
  },
  {
   "cell_type": "code",
   "execution_count": 5,
   "metadata": {},
   "outputs": [
    {
     "data": {
      "text/html": [
       "<div>\n",
       "<style scoped>\n",
       "    .dataframe tbody tr th:only-of-type {\n",
       "        vertical-align: middle;\n",
       "    }\n",
       "\n",
       "    .dataframe tbody tr th {\n",
       "        vertical-align: top;\n",
       "    }\n",
       "\n",
       "    .dataframe thead th {\n",
       "        text-align: right;\n",
       "    }\n",
       "</style>\n",
       "<table border=\"1\" class=\"dataframe\">\n",
       "  <thead>\n",
       "    <tr style=\"text-align: right;\">\n",
       "      <th></th>\n",
       "      <th>finger</th>\n",
       "      <th>surface</th>\n",
       "      <th>class</th>\n",
       "      <th>filename</th>\n",
       "    </tr>\n",
       "  </thead>\n",
       "  <tbody>\n",
       "    <tr>\n",
       "      <th>0</th>\n",
       "      <td>index</td>\n",
       "      <td>S3</td>\n",
       "      <td>touch</td>\n",
       "      <td>antoine_2017-03-08_10:48:36.hdf5</td>\n",
       "    </tr>\n",
       "    <tr>\n",
       "      <th>1</th>\n",
       "      <td>index</td>\n",
       "      <td>S3</td>\n",
       "      <td>notouch</td>\n",
       "      <td>antoine_2017-03-08_10:50:27.hdf5</td>\n",
       "    </tr>\n",
       "    <tr>\n",
       "      <th>2</th>\n",
       "      <td>thumb</td>\n",
       "      <td>S3</td>\n",
       "      <td>touch</td>\n",
       "      <td>antoine_2017-03-08_10:52:53.hdf5</td>\n",
       "    </tr>\n",
       "    <tr>\n",
       "      <th>3</th>\n",
       "      <td>thumb</td>\n",
       "      <td>S3</td>\n",
       "      <td>notouch</td>\n",
       "      <td>antoine_2017-03-08_10:54:12.hdf5</td>\n",
       "    </tr>\n",
       "    <tr>\n",
       "      <th>4</th>\n",
       "      <td>pinky</td>\n",
       "      <td>S3</td>\n",
       "      <td>touch</td>\n",
       "      <td>antoine_2017-03-08_10:55:51.hdf5</td>\n",
       "    </tr>\n",
       "  </tbody>\n",
       "</table>\n",
       "</div>"
      ],
      "text/plain": [
       "  finger surface    class                          filename\n",
       "0  index      S3    touch  antoine_2017-03-08_10:48:36.hdf5\n",
       "1  index      S3  notouch  antoine_2017-03-08_10:50:27.hdf5\n",
       "2  thumb      S3    touch  antoine_2017-03-08_10:52:53.hdf5\n",
       "3  thumb      S3  notouch  antoine_2017-03-08_10:54:12.hdf5\n",
       "4  pinky      S3    touch  antoine_2017-03-08_10:55:51.hdf5"
      ]
     },
     "execution_count": 5,
     "metadata": {},
     "output_type": "execute_result"
    }
   ],
   "source": [
    "df.head()"
   ]
  },
  {
   "cell_type": "code",
   "execution_count": 6,
   "metadata": {},
   "outputs": [],
   "source": [
    "hdf5file = h5py.File(datafolder+df.loc[0, 'filename'], 'r')"
   ]
  },
  {
   "cell_type": "code",
   "execution_count": 7,
   "metadata": {},
   "outputs": [],
   "source": [
    "d0 = hdf5file['data/depth'][0]"
   ]
  },
  {
   "cell_type": "code",
   "execution_count": 8,
   "metadata": {},
   "outputs": [],
   "source": [
    "from pyrealsense import offline\n",
    "offline.load_depth_intrinsics('610205001689')"
   ]
  },
  {
   "cell_type": "code",
   "execution_count": 9,
   "metadata": {},
   "outputs": [
    {
     "name": "stdout",
     "output_type": "stream",
     "text": [
      "2.94 ms ± 51.8 µs per loop (mean ± std. dev. of 7 runs, 100 loops each)\n"
     ]
    }
   ],
   "source": [
    "%timeit pc = offline.deproject_depth(d0)"
   ]
  },
  {
   "cell_type": "code",
   "execution_count": 10,
   "metadata": {},
   "outputs": [],
   "source": [
    "pc = offline.deproject_depth(d0)"
   ]
  },
  {
   "cell_type": "code",
   "execution_count": 11,
   "metadata": {},
   "outputs": [],
   "source": [
    "import pyrealsense2 as rs"
   ]
  },
  {
   "cell_type": "markdown",
   "metadata": {},
   "source": [
    "# deproject"
   ]
  },
  {
   "cell_type": "markdown",
   "metadata": {},
   "source": [
    "## fill intrinsics"
   ]
  },
  {
   "cell_type": "code",
   "execution_count": 12,
   "metadata": {},
   "outputs": [],
   "source": [
    "import yaml"
   ]
  },
  {
   "cell_type": "code",
   "execution_count": 13,
   "metadata": {},
   "outputs": [],
   "source": [
    "with open('.pyrealsense', 'r') as fh:\n",
    "    d = yaml.load(fh)\n",
    "intr_ = d['610205001689']"
   ]
  },
  {
   "cell_type": "code",
   "execution_count": 14,
   "metadata": {},
   "outputs": [
    {
     "data": {
      "text/plain": [
       "{'coeffs': [0.14429353177547455,\n",
       "  0.05476438254117966,\n",
       "  0.004519885405898094,\n",
       "  0.002106300089508295,\n",
       "  0.10783065110445023],\n",
       " 'depth_scale': 0.00012498664727900177,\n",
       " 'fx': 475.529052734375,\n",
       " 'fy': 475.5289306640625,\n",
       " 'height': 480,\n",
       " 'model': 2,\n",
       " 'ppx': 314.79681396484375,\n",
       " 'ppy': 245.8909912109375,\n",
       " 'width': 640}"
      ]
     },
     "execution_count": 14,
     "metadata": {},
     "output_type": "execute_result"
    }
   ],
   "source": [
    "intr_"
   ]
  },
  {
   "cell_type": "code",
   "execution_count": 15,
   "metadata": {},
   "outputs": [],
   "source": [
    "intr = rs.intrinsics()"
   ]
  },
  {
   "cell_type": "code",
   "execution_count": 16,
   "metadata": {},
   "outputs": [],
   "source": [
    "intr.coeffs = intr_['coeffs']\n",
    "intr.width  = intr_['width']\n",
    "intr.height = intr_['height']\n",
    "intr.ppx    = intr_['ppx']\n",
    "intr.ppy    = intr_['ppy']\n",
    "intr.fx     = intr_['fx']\n",
    "intr.fy     = intr_['fy']\n",
    "# intr.model  = intr_['model']\n",
    "intr.coeffs = intr_['coeffs']\n",
    "\n",
    "ds = intr_['depth_scale']"
   ]
  },
  {
   "cell_type": "markdown",
   "metadata": {},
   "source": [
    "## compute"
   ]
  },
  {
   "cell_type": "code",
   "execution_count": 17,
   "metadata": {},
   "outputs": [],
   "source": [
    "def deproject_depth_py(depth_image, intr, depth_scale):\n",
    "    pointcloud = np.zeros((intr.height, intr.width, 3), dtype=np.float32)\n",
    "    for dy in range(intr.height):\n",
    "        for dx in range(intr.width):\n",
    "            depth_value = depth_image[dy, dx] * depth_scale\n",
    "            if depth_value == 0: continue\n",
    "            pointcloud[dy, dx] = rs.rs2_deproject_pixel_to_point(intr, [dx, dy], depth_value)\n",
    "    return pointcloud"
   ]
  },
  {
   "cell_type": "code",
   "execution_count": 57,
   "metadata": {},
   "outputs": [
    {
     "name": "stdout",
     "output_type": "stream",
     "text": [
      "3.62 s ± 35.8 ms per loop (mean ± std. dev. of 7 runs, 1 loop each)\n"
     ]
    }
   ],
   "source": [
    "%timeit deproject_depth_py(d0, intr, ds)"
   ]
  },
  {
   "cell_type": "code",
   "execution_count": 18,
   "metadata": {},
   "outputs": [],
   "source": [
    "%load_ext cython"
   ]
  },
  {
   "cell_type": "code",
   "execution_count": 55,
   "metadata": {},
   "outputs": [],
   "source": [
    "%%cython \n",
    "#--annotate\n",
    "import numpy as np\n",
    "import pyrealsense2 as rs\n",
    "def deproject_depth_cy(short[:,:]depth_image, intr, double depth_scale):\n",
    "    \n",
    "    cdef float[:,:,:] pointcloud = np.zeros((intr.height, intr.width, 3), dtype=np.float32)\n",
    "    \n",
    "    cdef int height = intr.height\n",
    "    cdef int width  = intr.width\n",
    "    cdef int dx, dy\n",
    "    cdef float depth_value\n",
    "\n",
    "    for dy in range(height):\n",
    "        for dx in range(width):\n",
    "            depth_value = depth_image[dy, dx] * depth_scale\n",
    "            if depth_value == 0: continue\n",
    "            res = rs.rs2_deproject_pixel_to_point(intr, [dx, dy], depth_value)\n",
    "            for i in range(3):\n",
    "                pointcloud[dy, dx][i] = res[i]\n",
    "            break\n",
    "    return pointcloud"
   ]
  },
  {
   "cell_type": "code",
   "execution_count": 56,
   "metadata": {},
   "outputs": [
    {
     "name": "stdout",
     "output_type": "stream",
     "text": [
      "2.34 ms ± 155 µs per loop (mean ± std. dev. of 7 runs, 100 loops each)\n"
     ]
    }
   ],
   "source": [
    "%timeit np.asanyarray(deproject_depth_cy(d0, intr, ds))"
   ]
  },
  {
   "cell_type": "code",
   "execution_count": 46,
   "metadata": {},
   "outputs": [],
   "source": [
    "import vtkplot"
   ]
  },
  {
   "cell_type": "code",
   "execution_count": 52,
   "metadata": {},
   "outputs": [
    {
     "name": "stderr",
     "output_type": "stream",
     "text": [
      "/Users/antoine/anaconda/envs/fistwriter_reprod/lib/python3.5/site-packages/vtk/util/numpy_support.py:137: FutureWarning: Conversion of the second argument of issubdtype from `complex` to `np.complexfloating` is deprecated. In future, it will be treated as `np.complex128 == np.dtype(complex).type`.\n",
      "  assert not numpy.issubdtype(z.dtype, complex), \\\n"
     ]
    }
   ],
   "source": [
    "vtkplot.plot_objects(pc_, pc, axis=True)"
   ]
  },
  {
   "cell_type": "code",
   "execution_count": null,
   "metadata": {},
   "outputs": [],
   "source": [
    "# def deproject_depth(depth):\n",
    "#     global depth_intrinsics, depth_scale\n",
    "#     width = depth_intrinsics.width\n",
    "#     height = depth_intrinsics.height\n",
    "#     pointcloud = np.zeros((height * width * 3), dtype=np.float32)\n",
    "#     rsutilwrapper.deproject_depth(pointcloud, depth_intrinsics, depth, depth_scale)\n",
    "#     return pointcloud.reshape((height, width, 3))\n",
    "\n",
    "\n",
    "# void _deproject_depth(float pointcloud[],\n",
    "#                       const struct rs_intrinsics * intrin,\n",
    "#                       const uint16_t depth_image[],\n",
    "#                       const float depth_scale)\n",
    "# {\n",
    "#     int dx, dy;\n",
    "#     for(dy=0; dy<intrin->height; ++dy)\n",
    "#     {\n",
    "#         for(dx=0; dx<intrin->width; ++dx)\n",
    "#         {\n",
    "#             /* Retrieve the 16-bit depth value and map it into a depth in meters */\n",
    "#             uint16_t depth_value = ((uint16_t*)depth_image)[dy * intrin->width + dx];\n",
    "#             float depth_in_meters = depth_value * depth_scale;\n",
    "#             /* Skip over pixels with a depth value of zero, which is used to indicate no data */\n",
    "#             if(depth_value == 0) continue;\n",
    "#             /* Map from pixel coordinates in the depth image to pixel coordinates in the color image */\n",
    "#             float depth_pixel[2] = {(float)dx, (float)dy};\n",
    "#             float depth_point[3];\n",
    "#             rs_deproject_pixel_to_point(depth_point, intrin, depth_pixel, depth_in_meters);\n",
    "#             /* store a vertex at the 3D location of this depth pixel */\n",
    "#             pointcloud[dy*intrin->width*3 + dx*3 + 0] = depth_point[0];\n",
    "#             pointcloud[dy*intrin->width*3 + dx*3 + 1] = depth_point[1];\n",
    "#             pointcloud[dy*intrin->width*3 + dx*3 + 2] = depth_point[2];\n",
    "#         }\n",
    "#     }\n",
    "# }"
   ]
  }
 ],
 "metadata": {
  "kernelspec": {
   "display_name": "Python 3",
   "language": "python",
   "name": "python3"
  },
  "language_info": {
   "codemirror_mode": {
    "name": "ipython",
    "version": 3
   },
   "file_extension": ".py",
   "mimetype": "text/x-python",
   "name": "python",
   "nbconvert_exporter": "python",
   "pygments_lexer": "ipython3",
   "version": "3.5.6"
  }
 },
 "nbformat": 4,
 "nbformat_minor": 2
}
