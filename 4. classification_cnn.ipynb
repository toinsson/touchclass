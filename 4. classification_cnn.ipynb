{
 "cells": [
  {
   "cell_type": "code",
   "execution_count": 1,
   "metadata": {},
   "outputs": [],
   "source": [
    "%matplotlib inline"
   ]
  },
  {
   "cell_type": "code",
   "execution_count": 2,
   "metadata": {},
   "outputs": [],
   "source": [
    "import datetime"
   ]
  },
  {
   "cell_type": "code",
   "execution_count": 3,
   "metadata": {},
   "outputs": [],
   "source": [
    "from helper.common_imports import *"
   ]
  },
  {
   "cell_type": "code",
   "execution_count": 4,
   "metadata": {},
   "outputs": [],
   "source": [
    "from helper import processing_new as ps"
   ]
  },
  {
   "cell_type": "markdown",
   "metadata": {},
   "source": [
    "# load data"
   ]
  },
  {
   "cell_type": "code",
   "execution_count": 5,
   "metadata": {},
   "outputs": [],
   "source": [
    "datafolder = './dataset/'\n",
    "df = pd.read_csv(datafolder+'dataset.pd', index_col=0)"
   ]
  },
  {
   "cell_type": "code",
   "execution_count": 6,
   "metadata": {},
   "outputs": [
    {
     "data": {
      "text/html": [
       "<div>\n",
       "<style scoped>\n",
       "    .dataframe tbody tr th:only-of-type {\n",
       "        vertical-align: middle;\n",
       "    }\n",
       "\n",
       "    .dataframe tbody tr th {\n",
       "        vertical-align: top;\n",
       "    }\n",
       "\n",
       "    .dataframe thead th {\n",
       "        text-align: right;\n",
       "    }\n",
       "</style>\n",
       "<table border=\"1\" class=\"dataframe\">\n",
       "  <thead>\n",
       "    <tr style=\"text-align: right;\">\n",
       "      <th></th>\n",
       "      <th>user</th>\n",
       "      <th>surface</th>\n",
       "      <th>finger</th>\n",
       "      <th>class</th>\n",
       "      <th>filename</th>\n",
       "      <th>time</th>\n",
       "    </tr>\n",
       "  </thead>\n",
       "  <tbody>\n",
       "    <tr>\n",
       "      <th>0</th>\n",
       "      <td>user_0</td>\n",
       "      <td>S3</td>\n",
       "      <td>index</td>\n",
       "      <td>touch</td>\n",
       "      <td>0.hdf5</td>\n",
       "      <td>2017-03-08_10:48:36</td>\n",
       "    </tr>\n",
       "    <tr>\n",
       "      <th>1</th>\n",
       "      <td>user_0</td>\n",
       "      <td>S3</td>\n",
       "      <td>index</td>\n",
       "      <td>notouch</td>\n",
       "      <td>1.hdf5</td>\n",
       "      <td>2017-03-08_10:50:27</td>\n",
       "    </tr>\n",
       "    <tr>\n",
       "      <th>2</th>\n",
       "      <td>user_0</td>\n",
       "      <td>S3</td>\n",
       "      <td>thumb</td>\n",
       "      <td>touch</td>\n",
       "      <td>2.hdf5</td>\n",
       "      <td>2017-03-08_10:52:53</td>\n",
       "    </tr>\n",
       "    <tr>\n",
       "      <th>3</th>\n",
       "      <td>user_0</td>\n",
       "      <td>S3</td>\n",
       "      <td>thumb</td>\n",
       "      <td>notouch</td>\n",
       "      <td>3.hdf5</td>\n",
       "      <td>2017-03-08_10:54:12</td>\n",
       "    </tr>\n",
       "    <tr>\n",
       "      <th>4</th>\n",
       "      <td>user_0</td>\n",
       "      <td>S3</td>\n",
       "      <td>pinky</td>\n",
       "      <td>touch</td>\n",
       "      <td>4.hdf5</td>\n",
       "      <td>2017-03-08_10:55:51</td>\n",
       "    </tr>\n",
       "    <tr>\n",
       "      <th>5</th>\n",
       "      <td>user_0</td>\n",
       "      <td>S3</td>\n",
       "      <td>pinky</td>\n",
       "      <td>notouch</td>\n",
       "      <td>5.hdf5</td>\n",
       "      <td>2017-03-08_10:56:57</td>\n",
       "    </tr>\n",
       "    <tr>\n",
       "      <th>6</th>\n",
       "      <td>user_0</td>\n",
       "      <td>S4</td>\n",
       "      <td>index</td>\n",
       "      <td>touch</td>\n",
       "      <td>6.hdf5</td>\n",
       "      <td>2017-03-08_11:01:13</td>\n",
       "    </tr>\n",
       "    <tr>\n",
       "      <th>7</th>\n",
       "      <td>user_0</td>\n",
       "      <td>S4</td>\n",
       "      <td>index</td>\n",
       "      <td>notouch</td>\n",
       "      <td>7.hdf5</td>\n",
       "      <td>2017-03-08_11:02:24</td>\n",
       "    </tr>\n",
       "    <tr>\n",
       "      <th>8</th>\n",
       "      <td>user_0</td>\n",
       "      <td>S4</td>\n",
       "      <td>thumb</td>\n",
       "      <td>touch</td>\n",
       "      <td>8.hdf5</td>\n",
       "      <td>2017-03-08_11:03:39</td>\n",
       "    </tr>\n",
       "    <tr>\n",
       "      <th>9</th>\n",
       "      <td>user_0</td>\n",
       "      <td>S4</td>\n",
       "      <td>thumb</td>\n",
       "      <td>notouch</td>\n",
       "      <td>9.hdf5</td>\n",
       "      <td>2017-03-08_11:04:52</td>\n",
       "    </tr>\n",
       "    <tr>\n",
       "      <th>10</th>\n",
       "      <td>user_0</td>\n",
       "      <td>S4</td>\n",
       "      <td>pinky</td>\n",
       "      <td>touch</td>\n",
       "      <td>10.hdf5</td>\n",
       "      <td>2017-03-08_11:09:15</td>\n",
       "    </tr>\n",
       "    <tr>\n",
       "      <th>11</th>\n",
       "      <td>user_0</td>\n",
       "      <td>S4</td>\n",
       "      <td>pinky</td>\n",
       "      <td>notouch</td>\n",
       "      <td>11.hdf5</td>\n",
       "      <td>2017-03-08_11:10:23</td>\n",
       "    </tr>\n",
       "  </tbody>\n",
       "</table>\n",
       "</div>"
      ],
      "text/plain": [
       "      user surface finger    class filename                 time\n",
       "0   user_0      S3  index    touch   0.hdf5  2017-03-08_10:48:36\n",
       "1   user_0      S3  index  notouch   1.hdf5  2017-03-08_10:50:27\n",
       "2   user_0      S3  thumb    touch   2.hdf5  2017-03-08_10:52:53\n",
       "3   user_0      S3  thumb  notouch   3.hdf5  2017-03-08_10:54:12\n",
       "4   user_0      S3  pinky    touch   4.hdf5  2017-03-08_10:55:51\n",
       "5   user_0      S3  pinky  notouch   5.hdf5  2017-03-08_10:56:57\n",
       "6   user_0      S4  index    touch   6.hdf5  2017-03-08_11:01:13\n",
       "7   user_0      S4  index  notouch   7.hdf5  2017-03-08_11:02:24\n",
       "8   user_0      S4  thumb    touch   8.hdf5  2017-03-08_11:03:39\n",
       "9   user_0      S4  thumb  notouch   9.hdf5  2017-03-08_11:04:52\n",
       "10  user_0      S4  pinky    touch  10.hdf5  2017-03-08_11:09:15\n",
       "11  user_0      S4  pinky  notouch  11.hdf5  2017-03-08_11:10:23"
      ]
     },
     "execution_count": 6,
     "metadata": {},
     "output_type": "execute_result"
    }
   ],
   "source": [
    "df"
   ]
  },
  {
   "cell_type": "markdown",
   "metadata": {},
   "source": [
    "# process dataset"
   ]
  },
  {
   "cell_type": "code",
   "execution_count": null,
   "metadata": {},
   "outputs": [],
   "source": [
    "from helper.projection import projection\n",
    "import pcl\n",
    "from sklearn import base, pipeline"
   ]
  },
  {
   "cell_type": "code",
   "execution_count": null,
   "metadata": {},
   "outputs": [],
   "source": []
  },
  {
   "cell_type": "code",
   "execution_count": null,
   "metadata": {},
   "outputs": [],
   "source": [
    "class Process(base.BaseEstimator, base.TransformerMixin):\n",
    "    def fit(self, x, y=None): return self\n",
    "\n",
    "    def transform(self, X):\n",
    "\n",
    "        SIZE = 50\n",
    "        \n",
    "        frame, mat, org, ext = X\n",
    "\n",
    "        pc = projection.pixel_to_point(frame)\n",
    "        pc_rot = np.dot(mat, (pc - org).reshape((-1,3)).T).T\n",
    "        pc_rot_org = pc_rot.copy()\n",
    "\n",
    "        CLOUD_UPPER_MIN = 0.01  # 1cm, which exclude the plane\n",
    "        CLOUD_UPPER_MAX = 0.10\n",
    "        xm = (pc_rot[:,0] >= ext[0]) & (pc_rot[:,0] <= ext[1])\n",
    "        ym = (pc_rot[:,1] >= ext[2]) & (pc_rot[:,1] <= ext[3])\n",
    "        zm = (pc_rot[:,2] > CLOUD_UPPER_MIN) & (pc_rot[:,2] < CLOUD_UPPER_MAX)\n",
    "        pc_rot = pc_rot[xm & ym & zm]\n",
    "\n",
    "        if pc_rot.shape[0] == 0:\n",
    "            return np.zeros((SIZE,SIZE))\n",
    "\n",
    "        leaf_size = 0.02\n",
    "        vpcl = pcl.PointCloud(pc_rot.astype(np.float32))\n",
    "        vgf = vpcl.make_voxel_grid_filter()\n",
    "        vgf.set_leaf_size(leaf_size, leaf_size, leaf_size)\n",
    "        voxel = vgf.filter().to_array()\n",
    "\n",
    "        closest_y = voxel[np.argsort(voxel[:,1])[-1]]\n",
    "        track_point_idx_ = np.argmin(np.linalg.norm(pc_rot_org - closest_y, axis=1))\n",
    "        track_point_idx = np.unravel_index(track_point_idx_, frame.shape)\n",
    "\n",
    "        # reorient pointcloud\n",
    "        tmp = pc_rot_org * np.array([-1,1,1], dtype=np.float32) + org\n",
    "        tmp = np.ascontiguousarray(tmp)\n",
    "        frame_ = projection.point_to_pixel(tmp)\n",
    "\n",
    "        # mean at plane\n",
    "        frame_nz = (frame_ != 0)\n",
    "        frame_[frame_nz] -= frame_[frame_nz].mean()\n",
    "        \n",
    "        # clip\n",
    "        r = np.argwhere(projection.point_to_pixel((closest_y * np.array([-1,1,1], dtype=np.float32) +org).reshape((1,3))))[0]\n",
    "        frame_clip = frame_[r[0]-50:r[0]+50, r[1]-50:r[1]+50]\n",
    "        \n",
    "        # pad if needed\n",
    "        if frame_clip.shape != (100,100):\n",
    "            frame_clip = np.pad(frame_clip, [(0, 100 - frame_clip.shape[0]), (0, 100 - frame_clip.shape[1])])\n",
    "        \n",
    "        # resize\n",
    "        from skimage.transform import resize\n",
    "        image_resized = resize(frame_clip, (frame_clip.shape[0] // 2, frame_clip.shape[1] // 2),\n",
    "                               anti_aliasing=True)\n",
    "        \n",
    "        # norm betweewn fixed dimensions\n",
    "        # tmp = image_resized.reshape(-1)\n",
    "        # tmp -= tmp.min()\n",
    "        # tmp /= tmp.max()\n",
    "        # image_resized_norm = tmp.reshape((50,50))\n",
    "        tmp = image_resized\n",
    "        # tmp[tmp < 0] = 0\n",
    "        tmp[tmp > 0.04] = 0\n",
    "        tmp /= 0.04\n",
    "        return tmp"
   ]
  },
  {
   "cell_type": "code",
   "execution_count": null,
   "metadata": {},
   "outputs": [],
   "source": [
    "def process_dataset(args):\n",
    "    i, row = args\n",
    "\n",
    "    ## X\n",
    "    filename = row['filename']\n",
    "\n",
    "    hf = h5py.File('./dataset/'+filename, 'r')\n",
    "    x = hf['data/depth']\n",
    "    org = np.array(hf['origin'], dtype=np.float32)\n",
    "    mat = np.array(hf['matrix'], dtype=np.float32)\n",
    "    ext = np.array(hf['extrema'], dtype=np.float32)\n",
    "\n",
    "    t1 = datetime.datetime.now()\n",
    "\n",
    "    pl = pipeline.Pipeline([\n",
    "            ('process', Process()),\n",
    "        ], verbose=True)\n",
    "\n",
    "    td = ps.TraverseDataset(x, mat, org, ext, pl)\n",
    "    res = td.compute()\n",
    "    print(\"classification {} for {} frames\".format(datetime.datetime.now() - t1, x.shape[0]))\n",
    "    return res"
   ]
  },
  {
   "cell_type": "code",
   "execution_count": null,
   "metadata": {},
   "outputs": [],
   "source": [
    "%%time\n",
    "from multiprocessing import Pool\n",
    "pool = Pool(processes=6)\n",
    "Xc = pool.map(process_dataset, df.iterrows())"
   ]
  },
  {
   "cell_type": "code",
   "execution_count": null,
   "metadata": {},
   "outputs": [],
   "source": [
    "Xc = np.array(Xc)"
   ]
  },
  {
   "cell_type": "markdown",
   "metadata": {},
   "source": [
    "# save, load, preprocess data"
   ]
  },
  {
   "cell_type": "code",
   "execution_count": null,
   "metadata": {},
   "outputs": [],
   "source": [
    "np.save('Xc_norm_1', Xc)"
   ]
  },
  {
   "cell_type": "code",
   "execution_count": 7,
   "metadata": {},
   "outputs": [],
   "source": [
    "Xc = np.load('Xc_norm_1.npy')"
   ]
  },
  {
   "cell_type": "markdown",
   "metadata": {},
   "source": [
    "# split"
   ]
  },
  {
   "cell_type": "code",
   "execution_count": 8,
   "metadata": {},
   "outputs": [],
   "source": [
    "S3 = df['surface'] == 'S3'\n",
    "S4 = df['surface'] == 'S4'\n",
    "\n",
    "index = df['finger'] == 'index'\n",
    "thumb = df['finger'] == 'thumb'\n",
    "pinky = df['finger'] == 'pinky'\n",
    "\n",
    "def df_id(condition):\n",
    "    return df.index[condition].values\n",
    "\n",
    "kfolds = [(df_id(S3), df_id(S4)),\n",
    "          (df_id(S4), df_id(S3)),\n",
    "          (np.hstack([df_id(index), df_id(thumb)]), df_id(pinky)),\n",
    "          (np.hstack([df_id(index), df_id(pinky)]), df_id(thumb)),\n",
    "          (np.hstack([df_id(pinky), df_id(thumb)]), df_id(index)),\n",
    "         ]"
   ]
  },
  {
   "cell_type": "code",
   "execution_count": 9,
   "metadata": {},
   "outputs": [
    {
     "name": "stdout",
     "output_type": "stream",
     "text": [
      "[0 1 2 3 4 5] [ 6  7  8  9 10 11]\n",
      "[ 6  7  8  9 10 11] [0 1 2 3 4 5]\n",
      "[0 1 6 7 2 3 8 9] [ 4  5 10 11]\n",
      "[ 0  1  6  7  4  5 10 11] [2 3 8 9]\n",
      "[ 4  5 10 11  2  3  8  9] [0 1 6 7]\n"
     ]
    }
   ],
   "source": [
    "for train, test in kfolds:\n",
    "    print(\"%s %s\" % (train, test))"
   ]
  },
  {
   "cell_type": "markdown",
   "metadata": {},
   "source": [
    "# CNN"
   ]
  },
  {
   "cell_type": "code",
   "execution_count": 10,
   "metadata": {},
   "outputs": [],
   "source": [
    "# import os\n",
    "# os.environ[\"KERAS_BACKEND\"] = \"plaidml.keras.backend\""
   ]
  },
  {
   "cell_type": "code",
   "execution_count": 11,
   "metadata": {},
   "outputs": [
    {
     "name": "stderr",
     "output_type": "stream",
     "text": [
      "Using TensorFlow backend.\n"
     ]
    }
   ],
   "source": [
    "import keras"
   ]
  },
  {
   "cell_type": "code",
   "execution_count": 53,
   "metadata": {},
   "outputs": [
    {
     "name": "stdout",
     "output_type": "stream",
     "text": [
      "[ 0  1  6  7  4  5 10 11] [2 3 8 9]\n"
     ]
    }
   ],
   "source": [
    "from __future__ import print_function\n",
    "import keras\n",
    "from keras.datasets import mnist\n",
    "from keras.models import Sequential\n",
    "from keras.layers import Dense, Dropout, Flatten\n",
    "from keras.layers import Conv2D, MaxPooling2D\n",
    "from keras import backend as K\n",
    "\n",
    "num_classes = 2\n",
    "epochs = 3\n",
    "\n",
    "# input image dimensions\n",
    "SIZE = 50\n",
    "img_rows, img_cols = SIZE, SIZE\n",
    "\n",
    "# the data, split between train and test sets\n",
    "# (x_train, y_train), (x_test, y_test) = mnist.load_data()\n",
    "\n",
    "\n",
    "for train_id, test_id in [kfolds[3]]:\n",
    "\n",
    "    print(train_id, test_id)\n",
    "#     Xc = np.frombuffer(Xc_shared.get_obj()).reshape((12,900,25))\n",
    "    y = np.tile(np.r_[np.ones(900), np.zeros(900)], 6).reshape(12, 900)\n",
    "\n",
    "    x_train = np.r_[tuple([Xc[i] for i in train_id])]\n",
    "    x_test  = np.r_[tuple([Xc[i] for i in test_id])]\n",
    "\n",
    "    y_train = y[train_id].reshape(-1)\n",
    "    y_test  = y[test_id].reshape(-1) "
   ]
  },
  {
   "cell_type": "code",
   "execution_count": 54,
   "metadata": {},
   "outputs": [
    {
     "data": {
      "image/png": "[encoded data removed]",
      "text/plain": [
       "<Figure size 432x288 with 2 Axes>"
      ]
     },
     "metadata": {
      "needs_background": "light"
     },
     "output_type": "display_data"
    },
    {
     "data": {
      "image/png": "[encoded data removed]",
      "text/plain": [
       "<Figure size 432x288 with 2 Axes>"
      ]
     },
     "metadata": {
      "needs_background": "light"
     },
     "output_type": "display_data"
    }
   ],
   "source": [
    "fig, ax = plt.subplots(1,2)\n",
    "tmp_ = x_train[100] #/ x_train[0].max()\n",
    "ax[0].imshow(tmp_)\n",
    "_=ax[1].hist(tmp_.reshape(-1))\n",
    "\n",
    "X = 799\n",
    "fig, ax = plt.subplots(1,2)\n",
    "ax[0].imshow(x_train[X])\n",
    "_=ax[1].hist(x_train[X].reshape(-1))"
   ]
  },
  {
   "cell_type": "code",
   "execution_count": 55,
   "metadata": {},
   "outputs": [],
   "source": [
    "# from sklearn.preprocessing import StandardScaler\n",
    "\n",
    "# x_train = StandardScaler(with_std=False).fit_transform(x_train.reshape(-1,1))\n",
    "# x_train = x_train.reshape((-1,img_rows, img_cols))\n",
    "# x_test = StandardScaler(with_std=False).fit_transform(x_test.reshape(-1,1))\n",
    "# x_test = x_test.reshape((-1,img_rows, img_cols))"
   ]
  },
  {
   "cell_type": "code",
   "execution_count": 56,
   "metadata": {},
   "outputs": [
    {
     "data": {
      "text/plain": [
       "'channels_last'"
      ]
     },
     "execution_count": 56,
     "metadata": {},
     "output_type": "execute_result"
    }
   ],
   "source": [
    "K.image_data_format()"
   ]
  },
  {
   "cell_type": "code",
   "execution_count": 57,
   "metadata": {},
   "outputs": [
    {
     "data": {
      "text/plain": [
       "(7200, 50, 50)"
      ]
     },
     "execution_count": 57,
     "metadata": {},
     "output_type": "execute_result"
    }
   ],
   "source": [
    "x_train.shape"
   ]
  },
  {
   "cell_type": "code",
   "execution_count": 58,
   "metadata": {},
   "outputs": [
    {
     "name": "stdout",
     "output_type": "stream",
     "text": [
      "x_train shape: (7200, 50, 50, 1)\n",
      "7200 train samples\n",
      "3600 test samples\n"
     ]
    }
   ],
   "source": [
    "if K.image_data_format() == 'channels_first':\n",
    "    x_train = x_train.reshape(x_train.shape[0], 1, img_rows, img_cols)\n",
    "    x_test = x_test.reshape(x_test.shape[0], 1, img_rows, img_cols)\n",
    "    input_shape = (1, img_rows, img_cols)\n",
    "else:\n",
    "    x_train = x_train.reshape(x_train.shape[0], img_rows, img_cols, 1)\n",
    "    x_test = x_test.reshape(x_test.shape[0], img_rows, img_cols, 1)\n",
    "    input_shape = (img_rows, img_cols, 1)\n",
    "\n",
    "\n",
    "x_train = x_train.astype('float32')\n",
    "x_test = x_test.astype('float32')\n",
    "# x_train /= 2**15\n",
    "# x_test /= 2**15\n",
    "print('x_train shape:', x_train.shape)\n",
    "print(x_train.shape[0], 'train samples')\n",
    "print(x_test.shape[0], 'test samples')\n",
    "\n",
    "# convert class vectors to binary class matrices\n",
    "# y_train = keras.utils.to_categorical(y_train, num_classes)\n",
    "# y_test = keras.utils.to_categorical(y_test, num_classes)"
   ]
  },
  {
   "cell_type": "code",
   "execution_count": 113,
   "metadata": {},
   "outputs": [],
   "source": [
    "batch_size = 8\n",
    "\n",
    "model = Sequential()\n",
    "model.add(Conv2D(4, kernel_size=(3, 3),\n",
    "                 activation='relu',\n",
    "                 input_shape=input_shape))\n",
    "model.add(Conv2D(8, (7, 7), activation='relu'))\n",
    "model.add(MaxPooling2D(pool_size=(5, 5)))\n",
    "model.add(Dropout(0.25))\n",
    "model.add(Flatten())\n",
    "model.add(Dense(32, activation='relu'))\n",
    "model.add(Dropout(0.5))\n",
    "model.add(Dense(1, activation='sigmoid'))\n",
    "\n",
    "model.compile(loss=keras.losses.binary_crossentropy,\n",
    "              optimizer=keras.optimizers.RMSprop(),\n",
    "              metrics=['accuracy'])"
   ]
  },
  {
   "cell_type": "code",
   "execution_count": 114,
   "metadata": {},
   "outputs": [],
   "source": [
    "def model_str(model):\n",
    "    model_str = []\n",
    "    for layer in model.layers:\n",
    "        if layer.__class__ is Conv2D:\n",
    "            s = 'C2D-'+str(layer.filters)+'-'+\"x\".join([str(i) for i in layer.kernel_size])\n",
    "            model_str.append(s)\n",
    "        if layer.__class__ is Dense:\n",
    "            s = 'DNS-'+str(layer.output_shape[1])\n",
    "            model_str.append(s)\n",
    "    \n",
    "    init_op = tf.initialize_all_variables()\n",
    "    sess = tf.Session()\n",
    "    sess.run(init_op)\n",
    "    with sess.as_default():\n",
    "        if model.optimizer.__class__ is keras.optimizers.RMSprop:\n",
    "            model_str.append('RMS-'+str(model.optimizer.lr.eval()))\n",
    "        if model.optimizer.__class__ is keras.optimizers.Adagrad:\n",
    "            model_str.append('Adag-'+str(model.optimizer.lr.eval()))\n",
    "\n",
    "    model_str.append('BS-'+str(batch_size))\n",
    "    \n",
    "    return \"_\".join(model_str)"
   ]
  },
  {
   "cell_type": "code",
   "execution_count": 115,
   "metadata": {},
   "outputs": [
    {
     "data": {
      "text/plain": [
       "'C2D-4-3x3_C2D-8-7x7_DNS-32_DNS-1_RMS-0.001_BS-8'"
      ]
     },
     "execution_count": 115,
     "metadata": {},
     "output_type": "execute_result"
    }
   ],
   "source": [
    "model_str(model)"
   ]
  },
  {
   "cell_type": "code",
   "execution_count": 116,
   "metadata": {},
   "outputs": [
    {
     "name": "stdout",
     "output_type": "stream",
     "text": [
      "_________________________________________________________________\n",
      "Layer (type)                 Output Shape              Param #   \n",
      "=================================================================\n",
      "conv2d_26 (Conv2D)           (None, 48, 48, 4)         40        \n",
      "_________________________________________________________________\n",
      "conv2d_27 (Conv2D)           (None, 42, 42, 8)         1576      \n",
      "_________________________________________________________________\n",
      "max_pooling2d_13 (MaxPooling (None, 8, 8, 8)           0         \n",
      "_________________________________________________________________\n",
      "dropout_28 (Dropout)         (None, 8, 8, 8)           0         \n",
      "_________________________________________________________________\n",
      "flatten_14 (Flatten)         (None, 512)               0         \n",
      "_________________________________________________________________\n",
      "dense_29 (Dense)             (None, 32)                16416     \n",
      "_________________________________________________________________\n",
      "dropout_29 (Dropout)         (None, 32)                0         \n",
      "_________________________________________________________________\n",
      "dense_30 (Dense)             (None, 1)                 33        \n",
      "=================================================================\n",
      "Total params: 18,065\n",
      "Trainable params: 18,065\n",
      "Non-trainable params: 0\n",
      "_________________________________________________________________\n"
     ]
    }
   ],
   "source": [
    "model.summary()"
   ]
  },
  {
   "cell_type": "code",
   "execution_count": 117,
   "metadata": {
    "collapsed": true
   },
   "outputs": [
    {
     "name": "stdout",
     "output_type": "stream",
     "text": [
      "Train on 7200 samples, validate on 3600 samples\n",
      "Epoch 1/50\n",
      "7200/7200 [==============================] - 42s 6ms/step - loss: 0.4591 - acc: 0.7867 - val_loss: 0.4968 - val_acc: 0.7836\n",
      "Epoch 2/50\n",
      "7200/7200 [==============================] - 40s 6ms/step - loss: 0.3180 - acc: 0.8753 - val_loss: 0.4224 - val_acc: 0.8258\n",
      "Epoch 3/50\n",
      "7200/7200 [==============================] - 40s 6ms/step - loss: 0.2709 - acc: 0.8914 - val_loss: 0.2932 - val_acc: 0.8711\n",
      "Epoch 4/50\n",
      "7200/7200 [==============================] - 41s 6ms/step - loss: 0.2453 - acc: 0.8990 - val_loss: 0.4856 - val_acc: 0.8197\n",
      "Epoch 5/50\n",
      "7200/7200 [==============================] - 42s 6ms/step - loss: 0.2343 - acc: 0.9107 - val_loss: 0.3691 - val_acc: 0.8536\n",
      "Epoch 6/50\n",
      "7200/7200 [==============================] - 42s 6ms/step - loss: 0.2159 - acc: 0.9156 - val_loss: 0.3328 - val_acc: 0.8781\n",
      "Epoch 7/50\n",
      "7200/7200 [==============================] - 42s 6ms/step - loss: 0.2083 - acc: 0.9249 - val_loss: 0.2968 - val_acc: 0.8869\n",
      "Epoch 8/50\n",
      "7200/7200 [==============================] - 42s 6ms/step - loss: 0.2090 - acc: 0.9207 - val_loss: 0.3280 - val_acc: 0.8778\n",
      "Epoch 9/50\n",
      "7200/7200 [==============================] - 42s 6ms/step - loss: 0.2035 - acc: 0.9238 - val_loss: 0.3220 - val_acc: 0.8939\n",
      "Epoch 10/50\n",
      "7200/7200 [==============================] - 43s 6ms/step - loss: 0.2008 - acc: 0.9251 - val_loss: 0.2933 - val_acc: 0.8964\n",
      "Epoch 11/50\n",
      "7200/7200 [==============================] - 44s 6ms/step - loss: 0.2098 - acc: 0.9288 - val_loss: 0.2957 - val_acc: 0.8961\n",
      "Epoch 12/50\n",
      "7200/7200 [==============================] - 42s 6ms/step - loss: 0.1953 - acc: 0.9283 - val_loss: 0.3044 - val_acc: 0.8989\n",
      "Epoch 13/50\n",
      "7200/7200 [==============================] - 43s 6ms/step - loss: 0.1916 - acc: 0.9317 - val_loss: 0.2875 - val_acc: 0.8997\n",
      "Epoch 14/50\n",
      "7200/7200 [==============================] - 42s 6ms/step - loss: 0.1888 - acc: 0.9324 - val_loss: 0.2866 - val_acc: 0.9072\n",
      "Epoch 15/50\n",
      "7200/7200 [==============================] - 43s 6ms/step - loss: 0.1866 - acc: 0.9331 - val_loss: 0.3006 - val_acc: 0.9078\n",
      "Epoch 16/50\n",
      "7200/7200 [==============================] - 43s 6ms/step - loss: 0.1839 - acc: 0.9365 - val_loss: 0.2926 - val_acc: 0.8964\n",
      "Epoch 17/50\n",
      "7200/7200 [==============================] - 43s 6ms/step - loss: 0.1777 - acc: 0.9394 - val_loss: 0.3078 - val_acc: 0.9033\n",
      "Epoch 18/50\n",
      "7200/7200 [==============================] - 43s 6ms/step - loss: 0.1924 - acc: 0.9338 - val_loss: 0.3068 - val_acc: 0.8997\n",
      "Epoch 19/50\n",
      "7200/7200 [==============================] - 43s 6ms/step - loss: 0.1886 - acc: 0.9325 - val_loss: 0.3023 - val_acc: 0.8947\n",
      "Epoch 20/50\n",
      "7200/7200 [==============================] - 42s 6ms/step - loss: 0.1964 - acc: 0.9329 - val_loss: 0.4191 - val_acc: 0.8767\n",
      "Epoch 21/50\n",
      "7200/7200 [==============================] - 41s 6ms/step - loss: 0.1896 - acc: 0.9322 - val_loss: 0.3822 - val_acc: 0.8947\n",
      "Epoch 22/50\n",
      "7200/7200 [==============================] - 41s 6ms/step - loss: 0.1913 - acc: 0.9350 - val_loss: 0.3357 - val_acc: 0.9039\n",
      "Epoch 23/50\n",
      "7200/7200 [==============================] - 41s 6ms/step - loss: 0.1865 - acc: 0.9365 - val_loss: 0.2922 - val_acc: 0.9050\n",
      "Epoch 24/50\n",
      "7200/7200 [==============================] - 41s 6ms/step - loss: 0.1815 - acc: 0.9396 - val_loss: 0.3454 - val_acc: 0.9028\n",
      "Epoch 25/50\n",
      "7200/7200 [==============================] - 41s 6ms/step - loss: 0.1997 - acc: 0.9358 - val_loss: 0.4475 - val_acc: 0.8822\n",
      "Epoch 26/50\n",
      "7200/7200 [==============================] - 41s 6ms/step - loss: 0.1776 - acc: 0.9361 - val_loss: 0.3753 - val_acc: 0.8978\n",
      "Epoch 27/50\n",
      "7200/7200 [==============================] - 40s 6ms/step - loss: 0.1828 - acc: 0.9394 - val_loss: 0.4111 - val_acc: 0.8983\n",
      "Epoch 28/50\n",
      "7200/7200 [==============================] - 41s 6ms/step - loss: 0.1823 - acc: 0.9394 - val_loss: 0.4618 - val_acc: 0.8781\n",
      "Epoch 29/50\n",
      "7200/7200 [==============================] - 41s 6ms/step - loss: 0.1941 - acc: 0.9365 - val_loss: 0.3097 - val_acc: 0.9061\n",
      "Epoch 30/50\n",
      "7200/7200 [==============================] - 41s 6ms/step - loss: 0.1867 - acc: 0.9367 - val_loss: 0.3674 - val_acc: 0.8842\n",
      "Epoch 31/50\n",
      "7200/7200 [==============================] - 41s 6ms/step - loss: 0.1886 - acc: 0.9342 - val_loss: 0.3809 - val_acc: 0.9019\n",
      "Epoch 32/50\n",
      "7200/7200 [==============================] - 41s 6ms/step - loss: 0.1846 - acc: 0.9378 - val_loss: 0.3471 - val_acc: 0.9094\n",
      "Epoch 33/50\n",
      "7200/7200 [==============================] - 41s 6ms/step - loss: 0.1863 - acc: 0.9351 - val_loss: 0.3529 - val_acc: 0.9092\n",
      "Epoch 34/50\n",
      "5512/7200 [=====================>........] - ETA: 8s - loss: 0.1885 - acc: 0.9387"
     ]
    },
    {
     "ename": "KeyboardInterrupt",
     "evalue": "",
     "output_type": "error",
     "traceback": [
      "\u001b[0;31m---------------------------------------------------------------------------\u001b[0m",
      "\u001b[0;31mKeyboardInterrupt\u001b[0m                         Traceback (most recent call last)",
      "\u001b[0;32m<timed exec>\u001b[0m in \u001b[0;36m<module>\u001b[0;34m\u001b[0m\n",
      "\u001b[0;32m~/anaconda/envs/touchclass_github/lib/python3.7/site-packages/keras/engine/training.py\u001b[0m in \u001b[0;36mfit\u001b[0;34m(self, x, y, batch_size, epochs, verbose, callbacks, validation_split, validation_data, shuffle, class_weight, sample_weight, initial_epoch, steps_per_epoch, validation_steps, **kwargs)\u001b[0m\n\u001b[1;32m   1037\u001b[0m                                         \u001b[0minitial_epoch\u001b[0m\u001b[0;34m=\u001b[0m\u001b[0minitial_epoch\u001b[0m\u001b[0;34m,\u001b[0m\u001b[0;34m\u001b[0m\u001b[0;34m\u001b[0m\u001b[0m\n\u001b[1;32m   1038\u001b[0m                                         \u001b[0msteps_per_epoch\u001b[0m\u001b[0;34m=\u001b[0m\u001b[0msteps_per_epoch\u001b[0m\u001b[0;34m,\u001b[0m\u001b[0;34m\u001b[0m\u001b[0;34m\u001b[0m\u001b[0m\n\u001b[0;32m-> 1039\u001b[0;31m                                         validation_steps=validation_steps)\n\u001b[0m\u001b[1;32m   1040\u001b[0m \u001b[0;34m\u001b[0m\u001b[0m\n\u001b[1;32m   1041\u001b[0m     def evaluate(self, x=None, y=None,\n",
      "\u001b[0;32m~/anaconda/envs/touchclass_github/lib/python3.7/site-packages/keras/engine/training_arrays.py\u001b[0m in \u001b[0;36mfit_loop\u001b[0;34m(model, f, ins, out_labels, batch_size, epochs, verbose, callbacks, val_f, val_ins, shuffle, callback_metrics, initial_epoch, steps_per_epoch, validation_steps)\u001b[0m\n\u001b[1;32m    197\u001b[0m                     \u001b[0mins_batch\u001b[0m\u001b[0;34m[\u001b[0m\u001b[0mi\u001b[0m\u001b[0;34m]\u001b[0m \u001b[0;34m=\u001b[0m \u001b[0mins_batch\u001b[0m\u001b[0;34m[\u001b[0m\u001b[0mi\u001b[0m\u001b[0;34m]\u001b[0m\u001b[0;34m.\u001b[0m\u001b[0mtoarray\u001b[0m\u001b[0;34m(\u001b[0m\u001b[0;34m)\u001b[0m\u001b[0;34m\u001b[0m\u001b[0;34m\u001b[0m\u001b[0m\n\u001b[1;32m    198\u001b[0m \u001b[0;34m\u001b[0m\u001b[0m\n\u001b[0;32m--> 199\u001b[0;31m                 \u001b[0mouts\u001b[0m \u001b[0;34m=\u001b[0m \u001b[0mf\u001b[0m\u001b[0;34m(\u001b[0m\u001b[0mins_batch\u001b[0m\u001b[0;34m)\u001b[0m\u001b[0;34m\u001b[0m\u001b[0;34m\u001b[0m\u001b[0m\n\u001b[0m\u001b[1;32m    200\u001b[0m                 \u001b[0mouts\u001b[0m \u001b[0;34m=\u001b[0m \u001b[0mto_list\u001b[0m\u001b[0;34m(\u001b[0m\u001b[0mouts\u001b[0m\u001b[0;34m)\u001b[0m\u001b[0;34m\u001b[0m\u001b[0;34m\u001b[0m\u001b[0m\n\u001b[1;32m    201\u001b[0m                 \u001b[0;32mfor\u001b[0m \u001b[0ml\u001b[0m\u001b[0;34m,\u001b[0m \u001b[0mo\u001b[0m \u001b[0;32min\u001b[0m \u001b[0mzip\u001b[0m\u001b[0;34m(\u001b[0m\u001b[0mout_labels\u001b[0m\u001b[0;34m,\u001b[0m \u001b[0mouts\u001b[0m\u001b[0;34m)\u001b[0m\u001b[0;34m:\u001b[0m\u001b[0;34m\u001b[0m\u001b[0;34m\u001b[0m\u001b[0m\n",
      "\u001b[0;32m~/anaconda/envs/touchclass_github/lib/python3.7/site-packages/keras/backend/tensorflow_backend.py\u001b[0m in \u001b[0;36m__call__\u001b[0;34m(self, inputs)\u001b[0m\n\u001b[1;32m   2713\u001b[0m                 \u001b[0;32mreturn\u001b[0m \u001b[0mself\u001b[0m\u001b[0;34m.\u001b[0m\u001b[0m_legacy_call\u001b[0m\u001b[0;34m(\u001b[0m\u001b[0minputs\u001b[0m\u001b[0;34m)\u001b[0m\u001b[0;34m\u001b[0m\u001b[0;34m\u001b[0m\u001b[0m\n\u001b[1;32m   2714\u001b[0m \u001b[0;34m\u001b[0m\u001b[0m\n\u001b[0;32m-> 2715\u001b[0;31m             \u001b[0;32mreturn\u001b[0m \u001b[0mself\u001b[0m\u001b[0;34m.\u001b[0m\u001b[0m_call\u001b[0m\u001b[0;34m(\u001b[0m\u001b[0minputs\u001b[0m\u001b[0;34m)\u001b[0m\u001b[0;34m\u001b[0m\u001b[0;34m\u001b[0m\u001b[0m\n\u001b[0m\u001b[1;32m   2716\u001b[0m         \u001b[0;32melse\u001b[0m\u001b[0;34m:\u001b[0m\u001b[0;34m\u001b[0m\u001b[0;34m\u001b[0m\u001b[0m\n\u001b[1;32m   2717\u001b[0m             \u001b[0;32mif\u001b[0m \u001b[0mpy_any\u001b[0m\u001b[0;34m(\u001b[0m\u001b[0mis_tensor\u001b[0m\u001b[0;34m(\u001b[0m\u001b[0mx\u001b[0m\u001b[0;34m)\u001b[0m \u001b[0;32mfor\u001b[0m \u001b[0mx\u001b[0m \u001b[0;32min\u001b[0m \u001b[0minputs\u001b[0m\u001b[0;34m)\u001b[0m\u001b[0;34m:\u001b[0m\u001b[0;34m\u001b[0m\u001b[0;34m\u001b[0m\u001b[0m\n",
      "\u001b[0;32m~/anaconda/envs/touchclass_github/lib/python3.7/site-packages/keras/backend/tensorflow_backend.py\u001b[0m in \u001b[0;36m_call\u001b[0;34m(self, inputs)\u001b[0m\n\u001b[1;32m   2673\u001b[0m             \u001b[0mfetched\u001b[0m \u001b[0;34m=\u001b[0m \u001b[0mself\u001b[0m\u001b[0;34m.\u001b[0m\u001b[0m_callable_fn\u001b[0m\u001b[0;34m(\u001b[0m\u001b[0;34m*\u001b[0m\u001b[0marray_vals\u001b[0m\u001b[0;34m,\u001b[0m \u001b[0mrun_metadata\u001b[0m\u001b[0;34m=\u001b[0m\u001b[0mself\u001b[0m\u001b[0;34m.\u001b[0m\u001b[0mrun_metadata\u001b[0m\u001b[0;34m)\u001b[0m\u001b[0;34m\u001b[0m\u001b[0;34m\u001b[0m\u001b[0m\n\u001b[1;32m   2674\u001b[0m         \u001b[0;32melse\u001b[0m\u001b[0;34m:\u001b[0m\u001b[0;34m\u001b[0m\u001b[0;34m\u001b[0m\u001b[0m\n\u001b[0;32m-> 2675\u001b[0;31m             \u001b[0mfetched\u001b[0m \u001b[0;34m=\u001b[0m \u001b[0mself\u001b[0m\u001b[0;34m.\u001b[0m\u001b[0m_callable_fn\u001b[0m\u001b[0;34m(\u001b[0m\u001b[0;34m*\u001b[0m\u001b[0marray_vals\u001b[0m\u001b[0;34m)\u001b[0m\u001b[0;34m\u001b[0m\u001b[0;34m\u001b[0m\u001b[0m\n\u001b[0m\u001b[1;32m   2676\u001b[0m         \u001b[0;32mreturn\u001b[0m \u001b[0mfetched\u001b[0m\u001b[0;34m[\u001b[0m\u001b[0;34m:\u001b[0m\u001b[0mlen\u001b[0m\u001b[0;34m(\u001b[0m\u001b[0mself\u001b[0m\u001b[0;34m.\u001b[0m\u001b[0moutputs\u001b[0m\u001b[0;34m)\u001b[0m\u001b[0;34m]\u001b[0m\u001b[0;34m\u001b[0m\u001b[0;34m\u001b[0m\u001b[0m\n\u001b[1;32m   2677\u001b[0m \u001b[0;34m\u001b[0m\u001b[0m\n",
      "\u001b[0;32m~/anaconda/envs/touchclass_github/lib/python3.7/site-packages/tensorflow_core/python/client/session.py\u001b[0m in \u001b[0;36m__call__\u001b[0;34m(self, *args, **kwargs)\u001b[0m\n\u001b[1;32m   1470\u001b[0m         ret = tf_session.TF_SessionRunCallable(self._session._session,\n\u001b[1;32m   1471\u001b[0m                                                \u001b[0mself\u001b[0m\u001b[0;34m.\u001b[0m\u001b[0m_handle\u001b[0m\u001b[0;34m,\u001b[0m \u001b[0margs\u001b[0m\u001b[0;34m,\u001b[0m\u001b[0;34m\u001b[0m\u001b[0;34m\u001b[0m\u001b[0m\n\u001b[0;32m-> 1472\u001b[0;31m                                                run_metadata_ptr)\n\u001b[0m\u001b[1;32m   1473\u001b[0m         \u001b[0;32mif\u001b[0m \u001b[0mrun_metadata\u001b[0m\u001b[0;34m:\u001b[0m\u001b[0;34m\u001b[0m\u001b[0;34m\u001b[0m\u001b[0m\n\u001b[1;32m   1474\u001b[0m           \u001b[0mproto_data\u001b[0m \u001b[0;34m=\u001b[0m \u001b[0mtf_session\u001b[0m\u001b[0;34m.\u001b[0m\u001b[0mTF_GetBuffer\u001b[0m\u001b[0;34m(\u001b[0m\u001b[0mrun_metadata_ptr\u001b[0m\u001b[0;34m)\u001b[0m\u001b[0;34m\u001b[0m\u001b[0;34m\u001b[0m\u001b[0m\n",
      "\u001b[0;31mKeyboardInterrupt\u001b[0m: "
     ]
    }
   ],
   "source": [
    "%%time\n",
    "logname = './Graph/' + model_str(model) +'_'+ datetime.datetime.now().strftime(\"%Y%m%d-%H%M%S\")\n",
    "\n",
    "cb = keras.callbacks.TensorBoard(log_dir=logname, histogram_freq=0, write_graph=True, write_images=True)\n",
    "\n",
    "history = model.fit(x_train, y_train.astype(int),\n",
    "                    batch_size=batch_size,\n",
    "                    epochs=50,\n",
    "                    verbose=1,\n",
    "                    validation_data=(x_test, y_test),\n",
    "                    callbacks=[cb],\n",
    "                    initial_epoch=0,\n",
    "                   )\n",
    "\n",
    "score = model.evaluate(x_test, y_test, verbose=0)\n",
    "print('Test loss:', score[0])\n",
    "print('Test accuracy:', score[1])"
   ]
  },
  {
   "cell_type": "code",
   "execution_count": null,
   "metadata": {},
   "outputs": [],
   "source": [
    "fig, axs = plt.subplots(1,2, figsize=(16,4))\n",
    "# summarize history for accuracy\n",
    "axs[0].plot(history.history['acc'])\n",
    "axs[0].plot(history.history['val_acc'])\n",
    "axs[0].set_title('model accuracy')\n",
    "axs[0].set_ylabel('accuracy')\n",
    "axs[0].set_xlabel('epoch')\n",
    "axs[0].legend(['train', 'test'], loc='upper left')\n",
    "\n",
    "axs[1].plot(history.history['loss'])\n",
    "axs[1].plot(history.history['val_loss'])\n",
    "axs[1].set_title('model loss')\n",
    "axs[1].set_ylabel('loss')\n",
    "axs[1].set_xlabel('epoch')\n",
    "_=axs[1].legend(['train', 'test'], loc='upper left')"
   ]
  },
  {
   "cell_type": "code",
   "execution_count": null,
   "metadata": {},
   "outputs": [],
   "source": [
    "from sklearn import metrics"
   ]
  },
  {
   "cell_type": "code",
   "execution_count": null,
   "metadata": {},
   "outputs": [],
   "source": [
    "fig, ax = plt.subplots()\n",
    "y_pred = model.predict(x_test)\n",
    "fpr, tpr, thr = metrics.roc_curve(y_test, y_pred)\n",
    "roc_auc = metrics.auc(fpr, tpr)\n",
    "ax.plot(fpr, tpr, label='ROC curve (area = %0.2f)' % roc_auc)\n",
    "ax.legend(loc=\"lower right\")    "
   ]
  },
  {
   "cell_type": "code",
   "execution_count": null,
   "metadata": {},
   "outputs": [],
   "source": []
  }
 ],
 "metadata": {
  "kernelspec": {
   "display_name": "Python 3",
   "language": "python",
   "name": "python3"
  },
  "language_info": {
   "codemirror_mode": {
    "name": "ipython",
    "version": 3
   },
   "file_extension": ".py",
   "mimetype": "text/x-python",
   "name": "python",
   "nbconvert_exporter": "python",
   "pygments_lexer": "ipython3",
   "version": "3.7.5"
  }
 },
 "nbformat": 4,
 "nbformat_minor": 2
}
