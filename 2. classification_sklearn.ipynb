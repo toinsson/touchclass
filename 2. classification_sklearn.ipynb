{
 "cells": [
  {
   "cell_type": "code",
   "execution_count": 1,
   "metadata": {},
   "outputs": [],
   "source": [
    "%matplotlib inline"
   ]
  },
  {
   "cell_type": "code",
   "execution_count": 2,
   "metadata": {},
   "outputs": [],
   "source": [
    "from helper.common_imports import *\n",
    "from helper import processing_new as ps"
   ]
  },
  {
   "cell_type": "markdown",
   "metadata": {},
   "source": [
    "# 1. load the dataset"
   ]
  },
  {
   "cell_type": "code",
   "execution_count": 3,
   "metadata": {},
   "outputs": [],
   "source": [
    "datafolder = './dataset/'\n",
    "df = pd.read_csv(datafolder+'dataset.pd', index_col=0)"
   ]
  },
  {
   "cell_type": "markdown",
   "metadata": {},
   "source": [
    "# 2. extract the ROI\n",
    "The previous notebook has shown how the ROI could be identified. Here, the ROI is computed for all samples in the dataset. "
   ]
  },
  {
   "cell_type": "code",
   "execution_count": 4,
   "metadata": {},
   "outputs": [
    {
     "name": "stdout",
     "output_type": "stream",
     "text": [
      "classification 0:01:12.504578 for 900 frames\n",
      "classification 0:01:12.914846 for 900 frames\n",
      "classification 0:01:13.220621 for 900 frames\n",
      "classification 0:01:13.275517 for 900 frames\n",
      "classification 0:01:13.343742 for 900 frames\n",
      "classification 0:01:13.475782 for 900 frames\n",
      "classification 0:01:13.414863 for 900 frames\n",
      "classification 0:01:13.398241 for 900 frames\n",
      "classification 0:01:13.440922 for 900 frames\n",
      "classification 0:01:13.414812 for 900 frames\n",
      "classification 0:01:13.904753 for 900 frames\n",
      "classification 0:01:13.663842 for 900 frames\n",
      "CPU times: user 150 ms, sys: 76.6 ms, total: 227 ms\n",
      "Wall time: 2min 27s\n"
     ]
    }
   ],
   "source": [
    "%%time\n",
    "from multiprocessing import Pool\n",
    "pool = Pool(processes=6)\n",
    "Xc = pool.map(ps.extract_feature, df.iterrows())"
   ]
  },
  {
   "cell_type": "code",
   "execution_count": 5,
   "metadata": {},
   "outputs": [],
   "source": [
    "Xc = np.array(Xc)"
   ]
  },
  {
   "cell_type": "code",
   "execution_count": 6,
   "metadata": {},
   "outputs": [
    {
     "data": {
      "text/plain": [
       "(12, 900, 5, 5)"
      ]
     },
     "execution_count": 6,
     "metadata": {},
     "output_type": "execute_result"
    }
   ],
   "source": [
    "Xc.shape"
   ]
  },
  {
   "cell_type": "markdown",
   "metadata": {},
   "source": [
    "Now, we have `100x100` images that represent the dataset."
   ]
  },
  {
   "cell_type": "markdown",
   "metadata": {},
   "source": [
    "# 3. test sklearn classifiers\n",
    "Before going into more feature extraction or more complex models, it is interesting to test out the default classifiers offered by a package such as scikit-learn and assess their performance out of the box."
   ]
  },
  {
   "cell_type": "markdown",
   "metadata": {},
   "source": [
    "K-fold validation. The splits that would make sense are across view (S3 and S4) and across fingers."
   ]
  },
  {
   "cell_type": "code",
   "execution_count": 7,
   "metadata": {},
   "outputs": [],
   "source": [
    "S3 = df['surface'] == 'S3'\n",
    "S4 = df['surface'] == 'S4'\n",
    "\n",
    "index = df['finger'] == 'index'\n",
    "thumb = df['finger'] == 'thumb'\n",
    "pinky = df['finger'] == 'pinky'\n",
    "\n",
    "def df_id(condition):\n",
    "    return df.index[condition].values\n",
    "\n",
    "kfolds = [(df_id(S3), df_id(S4)),\n",
    "          (df_id(S4), df_id(S3)),\n",
    "          (np.hstack([df_id(index), df_id(thumb)]), df_id(pinky)),\n",
    "          (np.hstack([df_id(index), df_id(pinky)]), df_id(thumb)),\n",
    "          (np.hstack([df_id(pinky), df_id(thumb)]), df_id(index)),\n",
    "         ]"
   ]
  },
  {
   "cell_type": "code",
   "execution_count": 8,
   "metadata": {},
   "outputs": [
    {
     "name": "stdout",
     "output_type": "stream",
     "text": [
      "[0 1 2 3 4 5] [ 6  7  8  9 10 11]\n",
      "[ 6  7  8  9 10 11] [0 1 2 3 4 5]\n",
      "[0 1 6 7 2 3 8 9] [ 4  5 10 11]\n",
      "[ 0  1  6  7  4  5 10 11] [2 3 8 9]\n",
      "[ 4  5 10 11  2  3  8  9] [0 1 6 7]\n"
     ]
    }
   ],
   "source": [
    "for train, test in kfolds:\n",
    "    print(\"%s %s\" % (train, test))"
   ]
  },
  {
   "cell_type": "markdown",
   "metadata": {},
   "source": [
    "create a shareable version of the dataset"
   ]
  },
  {
   "cell_type": "code",
   "execution_count": 9,
   "metadata": {},
   "outputs": [],
   "source": [
    "Xc = Xc.reshape((12,900,-1))"
   ]
  },
  {
   "cell_type": "code",
   "execution_count": 10,
   "metadata": {},
   "outputs": [],
   "source": [
    "from multiprocessing import Array"
   ]
  },
  {
   "cell_type": "code",
   "execution_count": 11,
   "metadata": {},
   "outputs": [],
   "source": [
    "import ctypes"
   ]
  },
  {
   "cell_type": "code",
   "execution_count": 12,
   "metadata": {},
   "outputs": [],
   "source": [
    "Xc_shared = Array(ctypes.c_double, Xc.reshape(-1))"
   ]
  },
  {
   "cell_type": "code",
   "execution_count": 18,
   "metadata": {},
   "outputs": [],
   "source": [
    "from sklearn.neighbors import KNeighborsClassifier"
   ]
  },
  {
   "cell_type": "code",
   "execution_count": 19,
   "metadata": {},
   "outputs": [],
   "source": [
    "clf = KNeighborsClassifier"
   ]
  },
  {
   "cell_type": "code",
   "execution_count": 22,
   "metadata": {},
   "outputs": [
    {
     "name": "stdout",
     "output_type": "stream",
     "text": [
      "[0 1 2 3 4 5] [ 6  7  8  9 10 11]\n",
      "0.7446296296296296\n",
      "[ 6  7  8  9 10 11] [0 1 2 3 4 5]\n",
      "0.7609259259259259\n",
      "[0 1 6 7 2 3 8 9] [ 4  5 10 11]\n",
      "0.7758333333333334\n",
      "[ 0  1  6  7  4  5 10 11] [2 3 8 9]\n",
      "0.8208333333333333\n",
      "[ 4  5 10 11  2  3  8  9] [0 1 6 7]\n",
      "0.8163888888888889\n"
     ]
    }
   ],
   "source": [
    "for train_id, test_id in kfolds:\n",
    "\n",
    "    print(train_id, test_id)\n",
    "    Xc = np.frombuffer(Xc_shared.get_obj()).reshape((12,900,25))\n",
    "    y = np.tile(np.r_[np.ones(900), np.zeros(900)], 6).reshape(12, 900)\n",
    "\n",
    "    X_train = np.r_[tuple([Xc[i] for i in train_id])]\n",
    "    X_test  = np.r_[tuple([Xc[i] for i in test_id])]\n",
    "\n",
    "    y_train = y[train_id].reshape(-1)\n",
    "    y_test  = y[test_id].reshape(-1) \n",
    "    clf_inst = clf()\n",
    "\n",
    "    clf_inst.fit(X_train, y_train)\n",
    "    score = clf_inst.score(X_test, y_test)\n",
    "    print(score)"
   ]
  },
  {
   "cell_type": "code",
   "execution_count": null,
   "metadata": {},
   "outputs": [],
   "source": [
    "import multiprocessing as mp"
   ]
  },
  {
   "cell_type": "code",
   "execution_count": null,
   "metadata": {},
   "outputs": [],
   "source": [
    "class ScoreClassifier(mp.Process):\n",
    "    def __init__(self, clf, kfolds_ids, Xc_shared):\n",
    "        super(ScoreClassifier, self).__init__()\n",
    "        self.clf = clf\n",
    "        self.kfolds_ids = kfolds_ids\n",
    "        self.Xc_shared = Xc_shared\n",
    "        \n",
    "    def run(self):\n",
    "        \n",
    "        print('running')\n",
    "        for train_id, test_id in self.kfolds_ids:\n",
    "            \n",
    "            print(train_id, test_id)\n",
    "            Xc = np.frombuffer(self.Xc_shared.get_obj()).reshape((12,900,25))\n",
    "            y = np.tile(np.r_[np.ones(900), np.zeros(900)], 6).reshape(12, 900)\n",
    "\n",
    "            X_train = np.r_[tuple([Xc[i] for i in train_id])]\n",
    "            X_test  = np.r_[tuple([Xc[i] for i in test_id])]\n",
    "\n",
    "            y_train = y[train_id].reshape(-1)\n",
    "            y_test  = y[test_id].reshape(-1) \n",
    "            clf = self.clf()\n",
    "            \n",
    "            clf.fit(X_train, y_train)\n",
    "            score = clf.score(X_test, y_test)\n",
    "            print(score)\n",
    "            #fpr, tpr, thr = metrics.roc_curve(y_test, y_pred)\n",
    "            #self.clf.predict(test)\n",
    "        \n",
    "        return score"
   ]
  },
  {
   "cell_type": "code",
   "execution_count": null,
   "metadata": {},
   "outputs": [],
   "source": []
  },
  {
   "cell_type": "code",
   "execution_count": null,
   "metadata": {},
   "outputs": [],
   "source": []
  },
  {
   "cell_type": "code",
   "execution_count": null,
   "metadata": {},
   "outputs": [],
   "source": []
  },
  {
   "cell_type": "code",
   "execution_count": null,
   "metadata": {},
   "outputs": [],
   "source": []
  },
  {
   "cell_type": "code",
   "execution_count": null,
   "metadata": {},
   "outputs": [],
   "source": []
  },
  {
   "cell_type": "code",
   "execution_count": null,
   "metadata": {},
   "outputs": [],
   "source": []
  },
  {
   "cell_type": "code",
   "execution_count": null,
   "metadata": {},
   "outputs": [],
   "source": []
  },
  {
   "cell_type": "code",
   "execution_count": null,
   "metadata": {},
   "outputs": [],
   "source": []
  },
  {
   "cell_type": "code",
   "execution_count": 13,
   "metadata": {
    "collapsed": true
   },
   "outputs": [
    {
     "data": {
      "text/plain": [
       "array([[[ 1.45480198,  1.46780645,  0.95341042, ..., -1.60935571,\n",
       "         -1.49075375, -1.40978487],\n",
       "        [ 1.45260533,  1.40307893,  0.92138561, ..., -1.6476474 ,\n",
       "         -1.51474007, -1.40377799],\n",
       "        [ 1.46537587,  1.4153678 ,  1.03190732, ..., -1.5942429 ,\n",
       "         -1.48762982, -1.3865475 ],\n",
       "        ...,\n",
       "        [ 1.44551325,  1.42087359,  1.31944732, ..., -1.44454238,\n",
       "         -1.38381748, -1.38501066],\n",
       "        [ 0.03709646,  0.00346619, -1.58867387, ...,  0.8840535 ,\n",
       "         -1.45865097, -1.37945944],\n",
       "        [ 1.45593412,  1.44655805,  0.02102594, ..., -1.07301587,\n",
       "         -0.03060029, -1.37566796]],\n",
       "\n",
       "       [[ 1.41365544,  1.43468173,  0.26455169, ..., -1.54820554,\n",
       "         -1.53223902, -1.40167258],\n",
       "        [ 1.43259633,  1.44485926,  0.05720058, ..., -1.52857548,\n",
       "         -1.55663196, -1.4140837 ],\n",
       "        [ 1.44470852,  1.44376069, -0.20317459, ..., -1.44562841,\n",
       "         -1.48770089, -1.39017511],\n",
       "        ...,\n",
       "        [ 1.44883849,  1.46079217,  1.23283655, ..., -1.4816555 ,\n",
       "         -1.3909175 , -1.3810004 ],\n",
       "        [ 1.45135223,  1.45271181,  0.97582141, ..., -1.5143815 ,\n",
       "         -1.43970697, -1.36763129],\n",
       "        [ 1.43910274,  1.44351932,  0.42241727, ..., -1.52892103,\n",
       "         -1.49253458, -1.38440696]],\n",
       "\n",
       "       [[ 1.40780555,  1.2104171 ,  0.90819465, ..., -1.74626232,\n",
       "         -1.51609572, -1.38605297],\n",
       "        [ 1.42732339,  1.33314998,  0.98500012, ..., -1.70512521,\n",
       "         -1.52586423, -1.38595943],\n",
       "        [ 1.44067006,  1.29628349,  0.93326399, ..., -1.7210157 ,\n",
       "         -1.51823057, -1.37161583],\n",
       "        ...,\n",
       "        [ 1.21873802,  1.41673261,  0.84819252, ..., -1.6264262 ,\n",
       "         -1.68464507,  0.31769828],\n",
       "        [ 1.46054114,  1.45395383,  1.35554423, ..., -1.41301237,\n",
       "         -1.36396974, -1.3631616 ],\n",
       "        [ 1.17665906,  1.39766134,  1.63683543, ..., -1.25426056,\n",
       "         -1.76968818,  0.4797378 ]],\n",
       "\n",
       "       ...,\n",
       "\n",
       "       [[ 1.42218344,  1.04311455, -0.40327558, ..., -1.41819019,\n",
       "         -1.59943498, -1.4980964 ],\n",
       "        [ 1.42941804,  1.03501838, -0.5532561 , ..., -1.45736   ,\n",
       "         -1.63326051, -1.51241734],\n",
       "        [ 1.43799157,  0.89236253, -0.52618311, ..., -1.4056342 ,\n",
       "         -1.65109226, -1.48249258],\n",
       "        ...,\n",
       "        [-1.18198917, -1.30673725, -1.69542706, ...,  0.66754729,\n",
       "         -1.40806719, -1.38156695],\n",
       "        [-1.28814749,  0.36014842,  1.18470265, ...,  0.62065753,\n",
       "          0.69372558, -1.46060913],\n",
       "        [ 1.09861045, -0.09918768, -1.94960739, ...,  0.62771862,\n",
       "          0.26526137, -1.7095103 ]],\n",
       "\n",
       "       [[ 1.43961446,  1.15937444,  0.99115685, ..., -1.87281292,\n",
       "         -1.43068845, -1.40884137],\n",
       "        [ 1.4337353 ,  1.26499086,  0.75462962, ..., -1.9497245 ,\n",
       "         -1.46593763, -1.39837839],\n",
       "        [ 1.43467104,  1.36830694,  1.18576028, ..., -1.85096789,\n",
       "         -1.53771922, -1.39114733],\n",
       "        ...,\n",
       "        [-1.53700901, -1.53104774, -1.9912821 , ...,  0.33921801,\n",
       "         -1.33045327, -1.37767057],\n",
       "        [-1.27991215, -0.00941884, -1.08540979, ...,  0.8833826 ,\n",
       "          0.29610667, -1.36275991],\n",
       "        [-1.4714123 , -1.54988871, -1.98877125, ...,  0.33660132,\n",
       "         -1.38315939, -1.38671536]],\n",
       "\n",
       "       [[ 1.44089876,  1.05012025, -1.76500342, ..., -0.21052051,\n",
       "          0.33450865, -1.52072348],\n",
       "        [ 1.43483608,  1.39963798, -1.69778917, ..., -0.10959112,\n",
       "          0.41417642, -0.39370955],\n",
       "        [ 1.44059332,  1.36391847, -1.63888845, ..., -0.07331602,\n",
       "          0.40273812, -1.44208779],\n",
       "        ...,\n",
       "        [ 1.4530815 ,  1.31843138,  0.48372312, ..., -1.57533729,\n",
       "         -1.48213894, -1.39503069],\n",
       "        [ 1.45840522,  1.43047293,  0.3952205 , ..., -1.5629496 ,\n",
       "         -1.54357766, -1.41030381],\n",
       "        [ 1.44229778,  1.47188175,  0.46979495, ..., -1.56202851,\n",
       "         -1.53185373, -1.40592561]]])"
      ]
     },
     "execution_count": 13,
     "metadata": {},
     "output_type": "execute_result"
    }
   ],
   "source": [
    "np.frombuffer(Xc_shared.get_obj()).reshape(Xc.shape)"
   ]
  },
  {
   "cell_type": "code",
   "execution_count": 8,
   "metadata": {},
   "outputs": [],
   "source": [
    "y = np.tile(np.r_[np.ones(900), np.zeros(900)], 6).reshape(12, 900)"
   ]
  },
  {
   "cell_type": "code",
   "execution_count": 9,
   "metadata": {},
   "outputs": [],
   "source": [
    "test_id = [0,1,2,3,4,5]\n",
    "train_id = [6,7,8,9,10,11]\n",
    "\n",
    "X_train = np.r_[tuple([Xc[i] for i in train_id])]\n",
    "X_test  = np.r_[tuple([Xc[i] for i in test_id])]\n",
    "\n",
    "y_train = y[train_id].reshape(-1)\n",
    "y_test  = y[test_id].reshape(-1)"
   ]
  },
  {
   "cell_type": "code",
   "execution_count": 10,
   "metadata": {},
   "outputs": [],
   "source": [
    "from sklearn.model_selection import train_test_split\n",
    "from sklearn.preprocessing import StandardScaler\n",
    "from sklearn.datasets import make_moons, make_circles, make_classification\n",
    "from sklearn.neural_network import MLPClassifier\n",
    "from sklearn.neighbors import KNeighborsClassifier\n",
    "from sklearn.svm import SVC\n",
    "from sklearn.gaussian_process import GaussianProcessClassifier\n",
    "from sklearn.gaussian_process.kernels import RBF\n",
    "from sklearn.tree import DecisionTreeClassifier\n",
    "from sklearn.ensemble import RandomForestClassifier, AdaBoostClassifier\n",
    "from sklearn.naive_bayes import GaussianNB\n",
    "from sklearn.discriminant_analysis import QuadraticDiscriminantAnalysis"
   ]
  },
  {
   "cell_type": "code",
   "execution_count": 11,
   "metadata": {},
   "outputs": [],
   "source": [
    "names = [\"Nearest Neighbors\", \"Linear SVM\", \"RBF SVM\", \"Gaussian Process\",\n",
    "         \"Decision Tree\", \"Random Forest\", \"Neural Net\", \"AdaBoost\",\n",
    "         \"Naive Bayes\", \"QDA\"]\n",
    "\n",
    "classifiers = [\n",
    "    KNeighborsClassifier(3),\n",
    "    SVC(kernel=\"linear\", C=0.025),\n",
    "    SVC(gamma=2, C=1),\n",
    "    GaussianProcessClassifier(1.0 * RBF(1.0)),\n",
    "    DecisionTreeClassifier(max_depth=5),\n",
    "    RandomForestClassifier(max_depth=5, n_estimators=10, max_features=1),\n",
    "    MLPClassifier(alpha=1, max_iter=1000),\n",
    "    AdaBoostClassifier(),\n",
    "    GaussianNB(),\n",
    "    QuadraticDiscriminantAnalysis()\n",
    "]"
   ]
  },
  {
   "cell_type": "code",
   "execution_count": 12,
   "metadata": {},
   "outputs": [
    {
     "name": "stdout",
     "output_type": "stream",
     "text": [
      "Nearest Neighbors 0.7605555555555555\n",
      "Linear SVM 0.6409259259259259\n",
      "RBF SVM 0.7811111111111111\n",
      "Gaussian Process 0.7498148148148148\n",
      "Decision Tree 0.64\n",
      "Random Forest 0.7374074074074074\n",
      "Neural Net 0.7566666666666667\n",
      "AdaBoost 0.5564814814814815\n",
      "Naive Bayes 0.6861111111111111\n",
      "CPU times: user 18.6 s, sys: 323 ms, total: 19 s\n",
      "Wall time: 8.86 s\n"
     ]
    },
    {
     "name": "stderr",
     "output_type": "stream",
     "text": [
      "/Users/antoine/anaconda/envs/touchclass_github/lib/python3.7/site-packages/sklearn/discriminant_analysis.py:693: UserWarning: Variables are collinear\n",
      "  warnings.warn(\"Variables are collinear\")\n"
     ]
    }
   ],
   "source": [
    "%%time\n",
    "for name, clf in zip(names, classifiers):\n",
    "    clf.fit(X_train, y_train)\n",
    "    score = clf.score(X_test, y_test)\n",
    "    print(name, score)"
   ]
  },
  {
   "cell_type": "code",
   "execution_count": 55,
   "metadata": {},
   "outputs": [],
   "source": [
    "import multiprocessing as mp"
   ]
  },
  {
   "cell_type": "code",
   "execution_count": 76,
   "metadata": {},
   "outputs": [],
   "source": [
    "class ScoreClassifier(mp.Process):\n",
    "    def __init__(self, clf, kfolds_ids, Xc_shared):\n",
    "        super(ScoreClassifier, self).__init__()\n",
    "        self.clf = clf\n",
    "        self.kfolds_ids = kfolds_ids\n",
    "        self.Xc_shared = Xc_shared\n",
    "        \n",
    "    def run(self):\n",
    "        \n",
    "        print('running')\n",
    "        for train_id, test_id in self.kfolds_ids:\n",
    "            \n",
    "            print(train_id, test_id)\n",
    "            Xc = np.frombuffer(self.Xc_shared.get_obj()).reshape((12,900,25))\n",
    "            y = np.tile(np.r_[np.ones(900), np.zeros(900)], 6).reshape(12, 900)\n",
    "\n",
    "            X_train = np.r_[tuple([Xc[i] for i in train_id])]\n",
    "            X_test  = np.r_[tuple([Xc[i] for i in test_id])]\n",
    "\n",
    "            y_train = y[train_id].reshape(-1)\n",
    "            y_test  = y[test_id].reshape(-1) \n",
    "            clf = self.clf()\n",
    "            \n",
    "            clf.fit(X_train, y_train)\n",
    "            score = clf.score(X_test, y_test)\n",
    "            print(score)\n",
    "            #fpr, tpr, thr = metrics.roc_curve(y_test, y_pred)\n",
    "            #self.clf.predict(test)\n",
    "        \n",
    "        return score"
   ]
  },
  {
   "cell_type": "code",
   "execution_count": 78,
   "metadata": {},
   "outputs": [],
   "source": [
    "SC = ScoreClassifier(KNeighborsClassifier, kfolds, Xc_shared)"
   ]
  },
  {
   "cell_type": "code",
   "execution_count": 79,
   "metadata": {},
   "outputs": [],
   "source": [
    "SC.start()"
   ]
  },
  {
   "cell_type": "code",
   "execution_count": null,
   "metadata": {},
   "outputs": [],
   "source": []
  }
 ],
 "metadata": {
  "kernelspec": {
   "display_name": "Python 3",
   "language": "python",
   "name": "python3"
  },
  "language_info": {
   "codemirror_mode": {
    "name": "ipython",
    "version": 3
   },
   "file_extension": ".py",
   "mimetype": "text/x-python",
   "name": "python",
   "nbconvert_exporter": "python",
   "pygments_lexer": "ipython3",
   "version": "3.7.5"
  }
 },
 "nbformat": 4,
 "nbformat_minor": 2
}
